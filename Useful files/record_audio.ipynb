{
 "cells": [
  {
   "cell_type": "code",
   "execution_count": 4,
   "metadata": {
    "collapsed": true,
    "pycharm": {
     "name": "#%%\n"
    }
   },
   "outputs": [],
   "source": [
    "import os\n",
    "from functions import *\n",
    "import wave\n",
    "import pyaudio\n",
    "from tqdm import tqdm"
   ]
  },
  {
   "cell_type": "code",
   "execution_count": 5,
   "outputs": [
    {
     "name": "stdout",
     "output_type": "stream",
     "text": [
      "_wave_params(nchannels=1, sampwidth=3, framerate=44100, nframes=748865, comptype='NONE', compname='not compressed')\n"
     ]
    },
    {
     "name": "stderr",
     "output_type": "stream",
     "text": [
      "C:\\Users\\Krzysiek\\AppData\\Local\\Temp\\ipykernel_24620\\510902228.py:21: FutureWarning: Pass sr=44100 as keyword args. From version 0.10 passing these as positional arguments will result in an error\n",
      "  y, sr = librosa.load(audio_path, SAMPLE_RATE)\n"
     ]
    }
   ],
   "source": [
    "directory = os.getcwd()\n",
    "audio_name = '\\Audio\\piano\\A blues scale.wav'\n",
    "\n",
    "audio_path = directory + audio_name\n",
    "audio_path = audio_path\n",
    "\n",
    "data = wave.open(audio_path, mode='rb')\n",
    "params = data.getparams()\n",
    "print(params)\n",
    "y, sr = librosa.load(audio_path, SAMPLE_RATE)"
   ],
   "metadata": {
    "collapsed": false,
    "pycharm": {
     "name": "#%%\n"
    }
   }
  },
  {
   "cell_type": "code",
   "execution_count": 6,
   "outputs": [
    {
     "name": "stdout",
     "output_type": "stream",
     "text": [
      "Recording\n"
     ]
    },
    {
     "name": "stderr",
     "output_type": "stream",
     "text": [
      "100%|██████████| 430/430 [00:10<00:00, 42.99it/s]\n"
     ]
    },
    {
     "name": "stdout",
     "output_type": "stream",
     "text": [
      "Finished recording\n"
     ]
    }
   ],
   "source": [
    "frames_per_buffer = 1024\n",
    "sample_format = pyaudio.paInt16\n",
    "channels = 2\n",
    "fs = 44100\n",
    "seconds = 10\n",
    "path = \"D:\\Studia\\MusicApp\\Audio\\Recorded\\\\\"\n",
    "p = pyaudio.PyAudio()\n",
    "stream = p.open(format=sample_format,\n",
    "                channels=channels,\n",
    "                rate=fs,\n",
    "                frames_per_buffer=frames_per_buffer,\n",
    "                input=True)\n",
    "frames = []\n",
    "second_tracking = 0\n",
    "second_count = 0\n",
    "\n",
    "for i in tqdm(range(0, int(fs / frames_per_buffer * seconds))):\n",
    "    data = stream.read(frames_per_buffer)\n",
    "    frames.append(data)\n",
    "    second_tracking += 1\n",
    "\n",
    "# Stop and close the stream\n",
    "stream.stop_stream()\n",
    "stream.close()\n",
    "# Terminate the PortAudio interface\n",
    "p.terminate()\n",
    "\n",
    "print('Finished recording')\n",
    "filename = input(\"Enter The Song Name: \") + \".wav\"\n",
    "wf = wave.open(path + filename, 'wb')\n",
    "wf.setnchannels(channels)\n",
    "wf.setsampwidth(p.get_sample_size(sample_format))\n",
    "\n",
    "wf.setframerate(fs)\n",
    "wf.writeframes(b''.join(frames))\n",
    "wf.close()"
   ],
   "metadata": {
    "collapsed": false,
    "pycharm": {
     "name": "#%%\n"
    }
   }
  }
 ],
 "metadata": {
  "kernelspec": {
   "display_name": "Python 3",
   "language": "python",
   "name": "python3"
  },
  "language_info": {
   "codemirror_mode": {
    "name": "ipython",
    "version": 2
   },
   "file_extension": ".py",
   "mimetype": "text/x-python",
   "name": "python",
   "nbconvert_exporter": "python",
   "pygments_lexer": "ipython2",
   "version": "2.7.6"
  }
 },
 "nbformat": 4,
 "nbformat_minor": 0
}