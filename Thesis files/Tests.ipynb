{
 "cells": [
  {
   "cell_type": "code",
   "execution_count": 146,
   "metadata": {
    "collapsed": true,
    "pycharm": {
     "name": "#%%\n"
    }
   },
   "outputs": [],
   "source": [
    "import matplotlib.pyplot as plt\n",
    "from functions import *\n",
    "from audio_class import Audio\n",
    "import os\n",
    "from pandas import DataFrame"
   ]
  },
  {
   "cell_type": "code",
   "execution_count": null,
   "outputs": [],
   "source": [
    "SAMPLE_RATE = 44100\n",
    "FREQUENCY_RANGE = (50, 2500)\n",
    "\n",
    "piano_single_notes = ['piano C2.wav', 'piano C#2.wav', 'piano D2.wav', 'piano D#2.wav', 'piano E2.wav', 'piano F2.wav',\n",
    "                      'piano F#2.wav', 'piano G2.wav', 'piano G#2.wav', 'piano A2.wav', 'piano A#2.wav', 'piano H2.wav',\n",
    "                      'piano C3.wav', 'piano C#3.wav', 'piano D3.wav', 'piano D#3.wav', 'piano E3.wav', 'piano F3.wav',\n",
    "                      'piano F#3.wav', 'piano G3.wav', 'piano G#3.wav', 'piano A3.wav', 'piano A#3.wav', 'piano H3.wav',\n",
    "                      'piano C4.wav', 'piano C#4.wav', 'piano D4.wav', 'piano D#4.wav', 'piano E4.wav', 'piano F4.wav',\n",
    "                      'piano F#4.wav', 'piano G4.wav', 'piano G#4.wav', 'piano A4.wav', 'piano A#4.wav', 'piano H4.wav',\n",
    "                      'piano C5.wav', 'piano C#5.wav', 'piano D5.wav', 'piano D#5.wav', 'piano E5.wav', 'piano F5.wav',\n",
    "                      'piano F#5.wav', 'piano G5.wav', 'piano G#5.wav', 'piano A5.wav', 'piano A#5.wav', 'piano H5.wav',\n",
    "                      'piano C6.wav', 'piano C#6.wav', 'piano D6.wav', 'piano D#6.wav', 'piano E6.wav', 'piano F6.wav',\n",
    "                      'piano F#6.wav', 'piano G6.wav', 'piano G#6.wav', 'piano A6.wav', 'piano A#6.wav', 'piano H6.wav',\n",
    "                      'piano C7.wav']\n",
    "\n",
    "sax_single_notes = [\"sax A# small.wav\", \"sax H small.wav\", \"sax C1.wav\", \"sax C#1.wav\", \"sax D1.wav\", \"sax D#1.wav\",\n",
    "                    \"sax E1.wav\", \"sax F1.wav\", \"sax F#1.wav\", \"sax G1.wav\", \"sax G#1.wav\", \"sax A1.wav\", \"sax A#1.wav\",\n",
    "                    \"sax H1.wav\", \"sax C2.wav\", \"sax C#2.wav\", \"sax D2.wav\", \"sax D#2.wav\", \"sax E2.wav\", \"sax F2.wav\",\n",
    "                    \"sax F#2.wav\", \"sax G2.wav\", \"sax G#2.wav\", \"sax A2.wav\", \"sax A#2.wav\", \"sax H2.wav\", \"sax C3.wav\",\n",
    "                    \"sax C#3.wav\", \"sax D3.wav\", \"sax D#3.wav\", \"sax E3.wav\", \"sax F3.wav\", \"sax F#3.wav\"]"
   ],
   "metadata": {
    "collapsed": false,
    "pycharm": {
     "name": "#%%\n"
    }
   }
  },
  {
   "cell_type": "markdown",
   "source": [
    "# Test I - analiza pojedynczych dźwięków"
   ],
   "metadata": {
    "collapsed": false,
    "pycharm": {
     "name": "#%% md\n"
    }
   }
  },
  {
   "cell_type": "code",
   "execution_count": 178,
   "outputs": [
    {
     "name": "stderr",
     "output_type": "stream",
     "text": [
      "D:\\Studia\\MusicApp\\venv\\lib\\site-packages\\numpy\\core\\fromnumeric.py:3474: RuntimeWarning: Mean of empty slice.\n",
      "  return _methods._mean(a, axis=axis, dtype=dtype,\n",
      "D:\\Studia\\MusicApp\\venv\\lib\\site-packages\\numpy\\core\\_methods.py:189: RuntimeWarning: invalid value encountered in double_scalars\n",
      "  ret = ret.dtype.type(ret / rcount)\n"
     ]
    },
    {
     "name": "stdout",
     "output_type": "stream",
     "text": [
      "top_db: 20\n",
      "window_size=1024\n",
      "hop_length=512\n",
      "\n",
      "Sax accuracy: 0.8787878787878788\n",
      "Piano accuracy: 0.7704918032786885\n",
      "\n"
     ]
    },
    {
     "name": "stderr",
     "output_type": "stream",
     "text": [
      "D:\\Studia\\MusicApp\\venv\\lib\\site-packages\\numpy\\core\\fromnumeric.py:3474: RuntimeWarning: Mean of empty slice.\n",
      "  return _methods._mean(a, axis=axis, dtype=dtype,\n",
      "D:\\Studia\\MusicApp\\venv\\lib\\site-packages\\numpy\\core\\_methods.py:189: RuntimeWarning: invalid value encountered in double_scalars\n",
      "  ret = ret.dtype.type(ret / rcount)\n"
     ]
    },
    {
     "name": "stdout",
     "output_type": "stream",
     "text": [
      "top_db: 20\n",
      "window_size=1536\n",
      "hop_length=512\n",
      "\n",
      "Sax accuracy: 0.9090909090909091\n",
      "Piano accuracy: 0.8524590163934426\n",
      "\n"
     ]
    },
    {
     "name": "stderr",
     "output_type": "stream",
     "text": [
      "D:\\Studia\\MusicApp\\venv\\lib\\site-packages\\numpy\\core\\fromnumeric.py:3474: RuntimeWarning: Mean of empty slice.\n",
      "  return _methods._mean(a, axis=axis, dtype=dtype,\n",
      "D:\\Studia\\MusicApp\\venv\\lib\\site-packages\\numpy\\core\\_methods.py:189: RuntimeWarning: invalid value encountered in double_scalars\n",
      "  ret = ret.dtype.type(ret / rcount)\n"
     ]
    },
    {
     "name": "stdout",
     "output_type": "stream",
     "text": [
      "top_db: 20\n",
      "window_size=2048\n",
      "hop_length=512\n",
      "\n",
      "Sax accuracy: 0.8787878787878788\n",
      "Piano accuracy: 0.9344262295081968\n",
      "\n"
     ]
    },
    {
     "name": "stderr",
     "output_type": "stream",
     "text": [
      "D:\\Studia\\MusicApp\\venv\\lib\\site-packages\\numpy\\core\\fromnumeric.py:3474: RuntimeWarning: Mean of empty slice.\n",
      "  return _methods._mean(a, axis=axis, dtype=dtype,\n",
      "D:\\Studia\\MusicApp\\venv\\lib\\site-packages\\numpy\\core\\_methods.py:189: RuntimeWarning: invalid value encountered in double_scalars\n",
      "  ret = ret.dtype.type(ret / rcount)\n"
     ]
    },
    {
     "name": "stdout",
     "output_type": "stream",
     "text": [
      "top_db: 20\n",
      "window_size=2560\n",
      "hop_length=512\n",
      "\n",
      "Sax accuracy: 0.7878787878787878\n",
      "Piano accuracy: 0.9836065573770492\n",
      "\n"
     ]
    },
    {
     "name": "stderr",
     "output_type": "stream",
     "text": [
      "D:\\Studia\\MusicApp\\venv\\lib\\site-packages\\numpy\\core\\fromnumeric.py:3474: RuntimeWarning: Mean of empty slice.\n",
      "  return _methods._mean(a, axis=axis, dtype=dtype,\n",
      "D:\\Studia\\MusicApp\\venv\\lib\\site-packages\\numpy\\core\\_methods.py:189: RuntimeWarning: invalid value encountered in double_scalars\n",
      "  ret = ret.dtype.type(ret / rcount)\n"
     ]
    },
    {
     "name": "stdout",
     "output_type": "stream",
     "text": [
      "top_db: 20\n",
      "window_size=3072\n",
      "hop_length=512\n",
      "\n",
      "Sax accuracy: 0.8484848484848485\n",
      "Piano accuracy: 1.0\n",
      "\n"
     ]
    },
    {
     "name": "stderr",
     "output_type": "stream",
     "text": [
      "D:\\Studia\\MusicApp\\venv\\lib\\site-packages\\numpy\\core\\fromnumeric.py:3474: RuntimeWarning: Mean of empty slice.\n",
      "  return _methods._mean(a, axis=axis, dtype=dtype,\n",
      "D:\\Studia\\MusicApp\\venv\\lib\\site-packages\\numpy\\core\\_methods.py:189: RuntimeWarning: invalid value encountered in double_scalars\n",
      "  ret = ret.dtype.type(ret / rcount)\n"
     ]
    },
    {
     "name": "stdout",
     "output_type": "stream",
     "text": [
      "top_db: 20\n",
      "window_size=3584\n",
      "hop_length=512\n",
      "\n",
      "Sax accuracy: 0.7878787878787878\n",
      "Piano accuracy: 1.0\n",
      "\n"
     ]
    },
    {
     "name": "stderr",
     "output_type": "stream",
     "text": [
      "D:\\Studia\\MusicApp\\venv\\lib\\site-packages\\numpy\\core\\fromnumeric.py:3474: RuntimeWarning: Mean of empty slice.\n",
      "  return _methods._mean(a, axis=axis, dtype=dtype,\n",
      "D:\\Studia\\MusicApp\\venv\\lib\\site-packages\\numpy\\core\\_methods.py:189: RuntimeWarning: invalid value encountered in double_scalars\n",
      "  ret = ret.dtype.type(ret / rcount)\n"
     ]
    },
    {
     "name": "stdout",
     "output_type": "stream",
     "text": [
      "top_db: 20\n",
      "window_size=4096\n",
      "hop_length=512\n",
      "\n",
      "Sax accuracy: 0.7272727272727273\n",
      "Piano accuracy: 1.0\n",
      "\n"
     ]
    },
    {
     "name": "stderr",
     "output_type": "stream",
     "text": [
      "D:\\Studia\\MusicApp\\venv\\lib\\site-packages\\numpy\\core\\fromnumeric.py:3474: RuntimeWarning: Mean of empty slice.\n",
      "  return _methods._mean(a, axis=axis, dtype=dtype,\n",
      "D:\\Studia\\MusicApp\\venv\\lib\\site-packages\\numpy\\core\\_methods.py:189: RuntimeWarning: invalid value encountered in double_scalars\n",
      "  ret = ret.dtype.type(ret / rcount)\n"
     ]
    },
    {
     "name": "stdout",
     "output_type": "stream",
     "text": [
      "top_db: 20\n",
      "window_size=4608\n",
      "hop_length=512\n",
      "\n",
      "Sax accuracy: 0.696969696969697\n",
      "Piano accuracy: 1.0\n",
      "\n"
     ]
    },
    {
     "name": "stderr",
     "output_type": "stream",
     "text": [
      "D:\\Studia\\MusicApp\\venv\\lib\\site-packages\\numpy\\core\\fromnumeric.py:3474: RuntimeWarning: Mean of empty slice.\n",
      "  return _methods._mean(a, axis=axis, dtype=dtype,\n",
      "D:\\Studia\\MusicApp\\venv\\lib\\site-packages\\numpy\\core\\_methods.py:189: RuntimeWarning: invalid value encountered in double_scalars\n",
      "  ret = ret.dtype.type(ret / rcount)\n"
     ]
    },
    {
     "name": "stdout",
     "output_type": "stream",
     "text": [
      "top_db: 20\n",
      "window_size=5120\n",
      "hop_length=512\n",
      "\n",
      "Sax accuracy: 0.6666666666666666\n",
      "Piano accuracy: 1.0\n",
      "\n"
     ]
    },
    {
     "name": "stderr",
     "output_type": "stream",
     "text": [
      "D:\\Studia\\MusicApp\\venv\\lib\\site-packages\\numpy\\core\\fromnumeric.py:3474: RuntimeWarning: Mean of empty slice.\n",
      "  return _methods._mean(a, axis=axis, dtype=dtype,\n",
      "D:\\Studia\\MusicApp\\venv\\lib\\site-packages\\numpy\\core\\_methods.py:189: RuntimeWarning: invalid value encountered in double_scalars\n",
      "  ret = ret.dtype.type(ret / rcount)\n"
     ]
    },
    {
     "name": "stdout",
     "output_type": "stream",
     "text": [
      "top_db: 20\n",
      "window_size=5632\n",
      "hop_length=512\n",
      "\n",
      "Sax accuracy: 0.696969696969697\n",
      "Piano accuracy: 1.0\n",
      "\n"
     ]
    },
    {
     "name": "stderr",
     "output_type": "stream",
     "text": [
      "D:\\Studia\\MusicApp\\venv\\lib\\site-packages\\numpy\\core\\fromnumeric.py:3474: RuntimeWarning: Mean of empty slice.\n",
      "  return _methods._mean(a, axis=axis, dtype=dtype,\n",
      "D:\\Studia\\MusicApp\\venv\\lib\\site-packages\\numpy\\core\\_methods.py:189: RuntimeWarning: invalid value encountered in double_scalars\n",
      "  ret = ret.dtype.type(ret / rcount)\n"
     ]
    },
    {
     "name": "stdout",
     "output_type": "stream",
     "text": [
      "top_db: 20\n",
      "window_size=6144\n",
      "hop_length=512\n",
      "\n",
      "Sax accuracy: 0.6363636363636364\n",
      "Piano accuracy: 0.9836065573770492\n",
      "\n"
     ]
    },
    {
     "name": "stderr",
     "output_type": "stream",
     "text": [
      "D:\\Studia\\MusicApp\\venv\\lib\\site-packages\\numpy\\core\\fromnumeric.py:3474: RuntimeWarning: Mean of empty slice.\n",
      "  return _methods._mean(a, axis=axis, dtype=dtype,\n",
      "D:\\Studia\\MusicApp\\venv\\lib\\site-packages\\numpy\\core\\_methods.py:189: RuntimeWarning: invalid value encountered in double_scalars\n",
      "  ret = ret.dtype.type(ret / rcount)\n"
     ]
    },
    {
     "name": "stdout",
     "output_type": "stream",
     "text": [
      "top_db: 20\n",
      "window_size=6656\n",
      "hop_length=512\n",
      "\n",
      "Sax accuracy: 0.5757575757575758\n",
      "Piano accuracy: 0.9836065573770492\n",
      "\n"
     ]
    },
    {
     "name": "stderr",
     "output_type": "stream",
     "text": [
      "D:\\Studia\\MusicApp\\venv\\lib\\site-packages\\numpy\\core\\fromnumeric.py:3474: RuntimeWarning: Mean of empty slice.\n",
      "  return _methods._mean(a, axis=axis, dtype=dtype,\n",
      "D:\\Studia\\MusicApp\\venv\\lib\\site-packages\\numpy\\core\\_methods.py:189: RuntimeWarning: invalid value encountered in double_scalars\n",
      "  ret = ret.dtype.type(ret / rcount)\n"
     ]
    },
    {
     "name": "stdout",
     "output_type": "stream",
     "text": [
      "top_db: 20\n",
      "window_size=7168\n",
      "hop_length=512\n",
      "\n",
      "Sax accuracy: 0.6363636363636364\n",
      "Piano accuracy: 0.9836065573770492\n",
      "\n"
     ]
    },
    {
     "name": "stderr",
     "output_type": "stream",
     "text": [
      "D:\\Studia\\MusicApp\\venv\\lib\\site-packages\\numpy\\core\\fromnumeric.py:3474: RuntimeWarning: Mean of empty slice.\n",
      "  return _methods._mean(a, axis=axis, dtype=dtype,\n",
      "D:\\Studia\\MusicApp\\venv\\lib\\site-packages\\numpy\\core\\_methods.py:189: RuntimeWarning: invalid value encountered in double_scalars\n",
      "  ret = ret.dtype.type(ret / rcount)\n"
     ]
    },
    {
     "name": "stdout",
     "output_type": "stream",
     "text": [
      "top_db: 20\n",
      "window_size=7680\n",
      "hop_length=512\n",
      "\n",
      "Sax accuracy: 0.6060606060606061\n",
      "Piano accuracy: 0.9672131147540983\n",
      "\n"
     ]
    },
    {
     "name": "stderr",
     "output_type": "stream",
     "text": [
      "D:\\Studia\\MusicApp\\venv\\lib\\site-packages\\numpy\\core\\fromnumeric.py:3474: RuntimeWarning: Mean of empty slice.\n",
      "  return _methods._mean(a, axis=axis, dtype=dtype,\n",
      "D:\\Studia\\MusicApp\\venv\\lib\\site-packages\\numpy\\core\\_methods.py:189: RuntimeWarning: invalid value encountered in double_scalars\n",
      "  ret = ret.dtype.type(ret / rcount)\n"
     ]
    },
    {
     "name": "stdout",
     "output_type": "stream",
     "text": [
      "top_db: 20\n",
      "window_size=8192\n",
      "hop_length=512\n",
      "\n",
      "Sax accuracy: 0.6060606060606061\n",
      "Piano accuracy: 0.9836065573770492\n",
      "\n",
      "[0.8787878787878788, 0.9090909090909091, 0.8787878787878788, 0.7878787878787878, 0.8484848484848485, 0.7878787878787878, 0.7272727272727273, 0.696969696969697, 0.6666666666666666, 0.696969696969697, 0.6363636363636364, 0.5757575757575758, 0.6363636363636364, 0.6060606060606061, 0.6060606060606061]\n",
      "[0.7704918032786885, 0.8524590163934426, 0.9344262295081968, 0.9836065573770492, 1.0, 1.0, 1.0, 1.0, 1.0, 1.0, 0.9836065573770492, 0.9836065573770492, 0.9836065573770492, 0.9672131147540983, 0.9836065573770492]\n"
     ]
    }
   ],
   "source": [
    "directory = os.getcwd()\n",
    "audio_path_sax = directory + '\\Audio\\sax\\single notes\\\\'\n",
    "audio_path_piano = directory + '\\Audio\\piano\\single notes\\\\'\n",
    "template_sax = sax_single_notes\n",
    "template_piano = piano_single_notes\n",
    "\n",
    "notes_piano = librosa.midi_to_note(np.arange(36, 97))\n",
    "frequencies_piano = librosa.midi_to_hz(np.arange(36, 97)).round(3)\n",
    "\n",
    "notes_sax = librosa.midi_to_note(np.arange(49, 82))\n",
    "frequencies_sax = librosa.midi_to_hz(np.arange(49, 82)).round(3)\n",
    "\n",
    "SAMPLE_RATE = 44100\n",
    "FREQUENCY_RANGE = (50, 2500)\n",
    "\n",
    "def find_f0(template, audio_path, hop_size, window_size):\n",
    "    frequencies = np.array([])\n",
    "    for name in template:\n",
    "        actual_path = audio_path + name\n",
    "        # CREATE INSTANCE OF \"Audio\" CLASS\n",
    "        audio_file = Audio(audio_path=actual_path, audio_name=name, hop_size=hop_size, window_size=window_size)\n",
    "        y, sr = librosa.load(actual_path, sr=SAMPLE_RATE)\n",
    "\n",
    "        # DETECT ONSETS IN AUDIO FILE\n",
    "        audio_file.amplitude_filter(top_db=top_db)\n",
    "        audio_file.highpass_filter(freq=50)\n",
    "\n",
    "        onsets = audio_file.detect_onsets(aggregate=np.mean)\n",
    "        audio_file.filter_onsets()\n",
    "        onsets = audio_file.onsets\n",
    "        # DIVIDE SIGNAL INTO FRAMES FROM ONSET TO ONSET;\n",
    "        onset_frames = audio_file.divide_into_onset_frames(onsets=onsets)\n",
    "\n",
    "        notes_duration_idx, rests_duration_idx = audio_file.find_durations(onset_frames=onset_frames,\n",
    "                                                                           onsets=onsets,\n",
    "                                                                           top_db=top_db)\n",
    "        # FIND F0 FREQUENCY\n",
    "        note_frames = []\n",
    "        for note_duration in notes_duration_idx:\n",
    "            first_idx, second_idx = note_duration\n",
    "            note = audio_file.audio_data[first_idx:second_idx]\n",
    "            note_frames.append(note)\n",
    "        freq = audio_file.find_frequencies(note_frames=note_frames)\n",
    "        freq = freq.round(3)\n",
    "        if len(freq) == 2:\n",
    "            frequencies = np.append(frequencies, freq[1])\n",
    "        else:\n",
    "            frequencies = np.append(frequencies, freq[0])\n",
    "    return frequencies\n",
    "\n",
    "\n",
    "def save_results(filename: str, notes, frequencies, template, found_frequencies):\n",
    "    df = DataFrame(\n",
    "        {'Note': notes, 'Frequency [Hz]': frequencies, \"Audio file\": template,\n",
    "         \"Found frequency [Hz]\": found_frequencies.round(2)})\n",
    "    error = np.abs(df['Frequency [Hz]'] - df['Found frequency [Hz]'])\n",
    "    percentage_error = ((error / frequencies) * 100)\n",
    "    df['Error'] = error.round(2)\n",
    "    df['Error [%]'] = percentage_error.round(2)\n",
    "    status = []\n",
    "    for i in range(len(notes)):\n",
    "        if i == len(frequencies) - 1:\n",
    "            if error[i] > np.abs(frequencies[i] - frequencies[i - 1]):\n",
    "                status.append('bad')\n",
    "            else:\n",
    "                status.append('good')\n",
    "        else:\n",
    "            if error[i] > np.abs(frequencies[i + 1] - frequencies[i]):\n",
    "                status.append('bad')\n",
    "            else:\n",
    "                status.append('good')\n",
    "    df['Status'] = status\n",
    "    return df\n",
    "\n",
    "hop_size = 512\n",
    "top_db = 20\n",
    "\n",
    "window_sizes = [1024, 2048, 4096, 8192]\n",
    "window_sizes = np.arange(1024, 8704, 512)\n",
    "sax_ac = []\n",
    "piano_ac = []\n",
    "for window_size in window_sizes:\n",
    "\n",
    "    found_freq_piano = find_f0(template=piano_single_notes, audio_path=audio_path_piano, hop_size=hop_size,\n",
    "                               window_size=window_size)\n",
    "\n",
    "    piano_results = save_results(filename='test_f0_piano.xlsx', notes=notes_piano, frequencies=frequencies_piano,\n",
    "                                 template=piano_single_notes,\n",
    "                                 found_frequencies=found_freq_piano)\n",
    "\n",
    "    found_freq_sax = find_f0(template=sax_single_notes, audio_path=audio_path_sax, hop_size=hop_size,\n",
    "                             window_size=window_size)\n",
    "    sax_results = save_results(filename='test_f0_sax.xlsx', notes=notes_sax, frequencies=frequencies_sax,\n",
    "                               template=sax_single_notes,\n",
    "                               found_frequencies=found_freq_sax)\n",
    "\n",
    "    results_sax = sax_results[\"Status\"].value_counts()\n",
    "    results_piano = piano_results[\"Status\"].value_counts()\n",
    "    if len(results_piano) == 2:\n",
    "        good_piano, bad_piano = results_piano\n",
    "        accuracy_piano = good_piano / (good_piano + bad_piano)\n",
    "    else:\n",
    "        accuracy_piano = 1.00\n",
    "\n",
    "    if len(results_sax) == 2:\n",
    "        good_sax, bad_sax = results_sax\n",
    "        accuracy_sax = good_sax / (good_sax + bad_sax)\n",
    "    else:\n",
    "        accuracy_sax = 1.00\n",
    "\n",
    "    sax_ac.append(accuracy_sax)\n",
    "    piano_ac.append(accuracy_piano)\n",
    "    print(f\"top_db: {top_db}\")\n",
    "    print(f\"window_size={window_size}\")\n",
    "    print(f\"hop_length={hop_size}\\n\")\n",
    "    print(f\"Sax accuracy: {accuracy_sax}\")\n",
    "    print(f\"Piano accuracy: {accuracy_piano}\\n\")\n",
    "\n",
    "print(sax_ac)\n",
    "print(piano_ac)"
   ],
   "metadata": {
    "collapsed": false,
    "pycharm": {
     "name": "#%%\n"
    }
   }
  },
  {
   "cell_type": "code",
   "execution_count": 187,
   "outputs": [
    {
     "name": "stdout",
     "output_type": "stream",
     "text": [
      "[0.88 0.91 0.88 0.79 0.85 0.79 0.73 0.7  0.67 0.7  0.64 0.58 0.64 0.61\n",
      " 0.61]\n",
      "[0.77 0.85 0.93 0.98 1.   1.   1.   1.   1.   1.   0.98 0.98 0.98 0.97\n",
      " 0.98]\n"
     ]
    },
    {
     "data": {
      "text/plain": "<Figure size 432x288 with 1 Axes>",
      "image/png": "[encoded data removed]"
     },
     "metadata": {
      "image/png": {
       "width": 385,
       "height": 262
      },
      "needs_background": "light"
     },
     "output_type": "display_data"
    }
   ],
   "source": [
    "sax_ac = np.array(sax_ac).round(2)\n",
    "piano_ac = np.array(piano_ac).round(2)\n",
    "\n",
    "print(sax_ac)\n",
    "print(piano_ac)\n",
    "\n",
    "fig,ax = plt.subplots()\n",
    "ax.plot(window_sizes, sax_ac, label=\"saksofon\")\n",
    "ax.plot(window_sizes, piano_ac, label=\"pianino\")\n",
    "ax.set_xticks(window_sizes[0::2])\n",
    "ax.legend()\n",
    "ax.set_xlabel(\"window_size\")\n",
    "ax.set_ylabel(\"Skuteczność\")\n",
    "plt.show()"
   ],
   "metadata": {
    "collapsed": false,
    "pycharm": {
     "name": "#%%\n"
    }
   }
  }
 ],
 "metadata": {
  "kernelspec": {
   "display_name": "Python 3",
   "language": "python",
   "name": "python3"
  },
  "language_info": {
   "codemirror_mode": {
    "name": "ipython",
    "version": 2
   },
   "file_extension": ".py",
   "mimetype": "text/x-python",
   "name": "python",
   "nbconvert_exporter": "python",
   "pygments_lexer": "ipython2",
   "version": "2.7.6"
  }
 },
 "nbformat": 4,
 "nbformat_minor": 0
}