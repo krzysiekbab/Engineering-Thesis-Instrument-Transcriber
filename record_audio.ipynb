{
 "cells": [
  {
   "cell_type": "code",
   "execution_count": 26,
   "metadata": {
    "collapsed": true,
    "pycharm": {
     "name": "#%%\n"
    }
   },
   "outputs": [],
   "source": [
    "import numpy as np\n",
    "import librosa\n",
    "import librosa.display\n",
    "import matplotlib.pyplot as plt\n",
    "import IPython.display as ipd\n",
    "from playsound import playsound\n",
    "import os\n",
    "from constants import *\n",
    "from functions import *\n",
    "import wave\n",
    "import pyaudio\n",
    "from tqdm import tqdm\n"
   ]
  },
  {
   "cell_type": "code",
   "execution_count": 27,
   "outputs": [
    {
     "name": "stdout",
     "output_type": "stream",
     "text": [
      "_wave_params(nchannels=1, sampwidth=3, framerate=44100, nframes=748865, comptype='NONE', compname='not compressed')\n"
     ]
    },
    {
     "name": "stderr",
     "output_type": "stream",
     "text": [
      "C:\\Users\\Krzysiek\\AppData\\Local\\Temp\\ipykernel_31480\\510902228.py:21: FutureWarning: Pass sr=44100 as keyword args. From version 0.10 passing these as positional arguments will result in an error\n",
      "  y, sr = librosa.load(audio_path, SAMPLE_RATE)\n"
     ]
    }
   ],
   "source": [
    "directory = os.getcwd()\n",
    "# audio_name = '\\Audio\\piano\\A blues scale with breaks.wav'\n",
    "audio_name = '\\Audio\\piano\\A blues scale.wav'\n",
    "# audio_name = '\\Audio\\C ionian scale.wav'\n",
    "# audio_name = '\\Audio\\\\piano single notes\\piano A4.wav'\n",
    "\n",
    "# audio_name = '\\Audio\\sax\\single notes\\sax F#2.wav'\n",
    "# audio_name = '\\Audio\\sax\\\\autumn leaves high(150 bpm).wav'\n",
    "# audio_name = '\\Audio\\sax\\\\C ionian scale sax.wav'\n",
    "# audio_name = '\\Audio\\sax\\\\F# blues scale sax.wav'\n",
    "# audio_name = '\\Audio\\sax\\\\melody d ionian 120 bpm.wav'\n",
    "# audio_name = '\\Audio\\sax\\\\single notes\\\\sax F#3.wav'\n",
    "\n",
    "\n",
    "audio_path = directory + audio_name\n",
    "audio_path = audio_path\n",
    "\n",
    "data = wave.open(audio_path, mode='rb')\n",
    "params = data.getparams()\n",
    "print(params)\n",
    "y, sr = librosa.load(audio_path, SAMPLE_RATE)"
   ],
   "metadata": {
    "collapsed": false,
    "pycharm": {
     "name": "#%%\n"
    }
   }
  },
  {
   "cell_type": "code",
   "execution_count": 28,
   "outputs": [
    {
     "name": "stdout",
     "output_type": "stream",
     "text": [
      "Recording\n"
     ]
    },
    {
     "name": "stderr",
     "output_type": "stream",
     "text": [
      "100%|██████████| 215/215 [00:04<00:00, 43.07it/s]"
     ]
    },
    {
     "name": "stdout",
     "output_type": "stream",
     "text": [
      "Finished recording\n"
     ]
    },
    {
     "name": "stderr",
     "output_type": "stream",
     "text": [
      "\n"
     ]
    }
   ],
   "source": [
    "frames_per_buffer = 1024  # Record in chunks of 1024 samples\n",
    "sample_format = pyaudio.paInt16  # 16 bits per sample\n",
    "channels = 2\n",
    "fs = 44100  # Record at 44100 samples per second\n",
    "seconds = 5\n",
    "filename = \"output1.wav\"\n",
    "path = \"D:\\Studia\\MusicApp\\Audio\\Recorded\\\\\"\n",
    "p = pyaudio.PyAudio()  # Create an interface to PortAudio\n",
    "\n",
    "print('Recording')\n",
    "\n",
    "stream = p.open(format=sample_format,\n",
    "                channels=channels,\n",
    "                rate=fs,\n",
    "                frames_per_buffer=frames_per_buffer,\n",
    "                input=True)\n",
    "\n",
    "frames = []  # Initialize array to store frames\n",
    "second_tracking = 0\n",
    "second_count = 0\n",
    "\n",
    "# Store data in chunks for 3 seconds\n",
    "for i in tqdm(range(0, int(fs / frames_per_buffer * seconds))):\n",
    "    data = stream.read(frames_per_buffer)\n",
    "    frames.append(data)\n",
    "    second_tracking += 1\n",
    "    # if second_tracking == fs / frames_per_buffer:\n",
    "    #     second_count += 1\n",
    "    #     second_tracking = 0\n",
    "    #     print(f\"Time left: {seconds - second_count}\")\n",
    "\n",
    "# Stop and close the stream\n",
    "stream.stop_stream()\n",
    "stream.close()\n",
    "# Terminate the PortAudio interface\n",
    "p.terminate()\n",
    "\n",
    "print('Finished recording')\n",
    "\n",
    "# Save the recorded data as a WAV file\n",
    "wf = wave.open(path + filename, 'wb')\n",
    "wf.setnchannels(channels)\n",
    "wf.setsampwidth(p.get_sample_size(sample_format))\n",
    "\n",
    "wf.setframerate(fs)\n",
    "wf.writeframes(b''.join(frames))\n",
    "wf.close()"
   ],
   "metadata": {
    "collapsed": false,
    "pycharm": {
     "name": "#%%\n"
    }
   }
  }
 ],
 "metadata": {
  "kernelspec": {
   "display_name": "Python 3",
   "language": "python",
   "name": "python3"
  },
  "language_info": {
   "codemirror_mode": {
    "name": "ipython",
    "version": 2
   },
   "file_extension": ".py",
   "mimetype": "text/x-python",
   "name": "python",
   "nbconvert_exporter": "python",
   "pygments_lexer": "ipython2",
   "version": "2.7.6"
  }
 },
 "nbformat": 4,
 "nbformat_minor": 0
}