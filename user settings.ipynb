{
 "cells": [
  {
   "cell_type": "code",
   "execution_count": 6,
   "metadata": {
    "collapsed": true,
    "pycharm": {
     "name": "#%%\n"
    }
   },
   "outputs": [
    {
     "name": "stdout",
     "output_type": "stream",
     "text": [
      "autoDownload\n",
      "braillePath\n",
      "debug\n",
      "directoryScratch\n",
      "graphicsPath\n",
      "ipythonShowFormat\n",
      "lilypondBackend\n",
      "lilypondFormat\n",
      "lilypondPath\n",
      "lilypondVersion\n",
      "localCorporaSettings\n",
      "localCorpusPath\n",
      "localCorpusSettings\n",
      "manualCoreCorpusPath\n",
      "midiPath\n",
      "musescoreDirectPNGPath\n",
      "musicxmlPath\n",
      "pdfPath\n",
      "showFormat\n",
      "vectorPath\n",
      "warnings\n",
      "writeFormat\n"
     ]
    },
    {
     "data": {
      "text/plain": "WindowsPath('C:/Program Files/lilypond-2.24.0/bin/lilypond.exe')"
     },
     "execution_count": 6,
     "metadata": {},
     "output_type": "execute_result"
    }
   ],
   "source": [
    "from music21 import *\n",
    "us = environment.UserSettings()\n",
    "\n",
    "for key in sorted(us.keys()):\n",
    "    print(key)\n",
    "us['lilypondPath'] = 'C:\\Program Files\\lilypond-2.24.0\\\\bin\\\\lilypond.exe'\n",
    "# us['musescoreDirectPNGPath']\n",
    "us['lilypondPath']"
   ]
  }
 ],
 "metadata": {
  "kernelspec": {
   "display_name": "Python 3",
   "language": "python",
   "name": "python3"
  },
  "language_info": {
   "codemirror_mode": {
    "name": "ipython",
    "version": 2
   },
   "file_extension": ".py",
   "mimetype": "text/x-python",
   "name": "python",
   "nbconvert_exporter": "python",
   "pygments_lexer": "ipython2",
   "version": "2.7.6"
  }
 },
 "nbformat": 4,
 "nbformat_minor": 0
}