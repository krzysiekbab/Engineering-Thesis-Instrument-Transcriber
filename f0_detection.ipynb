{
 "cells": [
  {
   "cell_type": "code",
   "execution_count": 398,
   "metadata": {
    "collapsed": true,
    "pycharm": {
     "name": "#%%\n"
    }
   },
   "outputs": [],
   "source": [
    "import numpy as np\n",
    "import librosa\n",
    "import librosa.display\n",
    "import IPython.display as ipd\n",
    "import matplotlib.pyplot as plt\n",
    "from glob import glob\n",
    "import os\n",
    "from pandas import DataFrame"
   ]
  },
  {
   "cell_type": "code",
   "execution_count": 399,
   "outputs": [],
   "source": [
    "def calc_cepstrum(data):\n",
    "    \"\"\"\n",
    "    Calculates the complex cepstrum of a real sequence.\n",
    "    \"\"\"\n",
    "    spectrum = np.fft.fft(data)\n",
    "    log_spectrum = np.log(np.abs(spectrum))\n",
    "    cepstrum = np.fft.ifft(log_spectrum).real\n",
    "    return cepstrum\n",
    "\n",
    "\n",
    "def find_fundamental_freq(samples, sr, freq_range):\n",
    "    cepstrum = calc_cepstrum(samples)\n",
    "    \"\"\"\n",
    "    Finding fundamental frequency of tested sound\n",
    "    \"\"\"\n",
    "\n",
    "    min_freq, max_freq = freq_range\n",
    "    start = int(sr / max_freq)\n",
    "    end = int(sr / min_freq)\n",
    "    narrowed_cepstrum = cepstrum[start:end]\n",
    "    peak_ix = narrowed_cepstrum.argmax()\n",
    "    freq0 = sr / (start + peak_ix)\n",
    "\n",
    "    if freq0 < min_freq or freq0 > max_freq:\n",
    "        return 0\n",
    "\n",
    "    return freq0"
   ],
   "metadata": {
    "collapsed": false,
    "pycharm": {
     "name": "#%%\n"
    }
   }
  },
  {
   "cell_type": "code",
   "execution_count": 400,
   "outputs": [
    {
     "name": "stdout",
     "output_type": "stream",
     "text": [
      "61\n"
     ]
    }
   ],
   "source": [
    "audio_files = glob('Audio/piano single notes/*')\n",
    "\n",
    "audio_names = []\n",
    "\n",
    "for audio in audio_files:\n",
    "    audio_names.append(audio[25:])\n",
    "for count, file in enumerate(audio_names):\n",
    "    # print(f\"{count}. {file}\")\n",
    "    pass\n",
    "audio_names2 = ['piano C2.wav', 'piano C#2.wav', 'piano D2.wav', 'piano D#2.wav', 'piano E2.wav', 'piano F2.wav',\n",
    "                'piano F#2.wav', 'piano G2.wav', 'piano G#2.wav', 'piano A2.wav', 'piano A#2.wav', 'piano H2.wav',\n",
    "                'piano C3.wav', 'piano C#3.wav', 'piano D3.wav', 'piano D#3.wav', 'piano E3.wav', 'piano F3.wav',\n",
    "                'piano F#3.wav', 'piano G3.wav', 'piano G#3.wav', 'piano A3.wav', 'piano A#3.wav', 'piano H3.wav',\n",
    "                'piano C4.wav', 'piano C#4.wav', 'piano D4.wav', 'piano D#4.wav', 'piano E4.wav', 'piano F4.wav',\n",
    "                'piano F#4.wav', 'piano G4.wav', 'piano G#4.wav', 'piano A4.wav', 'piano A#4.wav', 'piano H4.wav',\n",
    "                'piano C5.wav', 'piano C#5.wav', 'piano D5.wav', 'piano D#5.wav', 'piano E5.wav', 'piano F5.wav',\n",
    "                'piano F#5.wav', 'piano G5.wav', 'piano G#5.wav', 'piano A5.wav', 'piano A#5.wav', 'piano H5.wav',\n",
    "                'piano C6.wav', 'piano C#6.wav', 'piano D6.wav', 'piano D#6.wav', 'piano E6.wav', 'piano F6.wav',\n",
    "                'piano F#6.wav', 'piano G6.wav', 'piano G#6.wav', 'piano A6.wav', 'piano A#6.wav', 'piano H6.wav',\n",
    "                'piano C7.wav']\n",
    "print(len(audio_names2))"
   ],
   "metadata": {
    "collapsed": false,
    "pycharm": {
     "name": "#%%\n"
    }
   }
  },
  {
   "cell_type": "code",
   "execution_count": 401,
   "outputs": [
    {
     "name": "stdout",
     "output_type": "stream",
     "text": [
      "piano C2.wav, znaleziona f: 66.11694152923538\n",
      "piano C#2.wav, znaleziona f: 69.88906497622821\n",
      "piano D2.wav, znaleziona f: 73.99328859060402\n",
      "piano D#2.wav, znaleziona f: 78.46975088967972\n",
      "piano E2.wav, znaleziona f: 83.05084745762711\n",
      "piano F2.wav, znaleziona f: 88.2\n",
      "piano F#2.wav, znaleziona f: 93.4322033898305\n",
      "piano G2.wav, znaleziona f: 99.10112359550561\n",
      "piano G#2.wav, znaleziona f: 104.75059382422803\n",
      "piano A2.wav, znaleziona f: 111.36363636363636\n",
      "piano A#2.wav, znaleziona f: 117.9144385026738\n",
      "piano H2.wav, znaleziona f: 124.57627118644068\n",
      "piano C3.wav, znaleziona f: 132.83132530120483\n",
      "piano C#3.wav, znaleziona f: 140.0\n",
      "piano D3.wav, znaleziona f: 148.4848484848485\n",
      "piano D#3.wav, znaleziona f: 157.21975088967972\n",
      "piano E3.wav, znaleziona f: 166.41509433962264\n",
      "piano F3.wav, znaleziona f: 177.10843373493975\n",
      "piano F#3.wav, znaleziona f: 187.6595744680851\n",
      "piano G3.wav, znaleziona f: 199.54751131221718\n",
      "piano G#3.wav, znaleziona f: 211.00478468899522\n",
      "piano A3.wav, znaleziona f: 223.85786802030458\n",
      "piano A#3.wav, znaleziona f: 237.09677419354838\n",
      "piano H3.wav, znaleziona f: 249.15254237288136\n",
      "piano C4.wav, znaleziona f: 265.66265060240966\n",
      "piano C#4.wav, znaleziona f: 282.6923076923077\n",
      "piano D4.wav, znaleziona f: 300.0\n",
      "piano D#4.wav, znaleziona f: 317.2661870503597\n",
      "piano E4.wav, znaleziona f: 331.57894736842104\n",
      "piano F4.wav, znaleziona f: 355.64516129032256\n",
      "piano F#4.wav, znaleziona f: 376.9230769230769\n",
      "piano G4.wav, znaleziona f: 397.2972972972973\n",
      "piano G#4.wav, znaleziona f: 424.03846153846155\n",
      "piano A4.wav, znaleziona f: 450.0\n",
      "piano A#4.wav, znaleziona f: 474.19354838709677\n",
      "piano H4.wav, znaleziona f: 501.1363636363636\n",
      "piano C5.wav, znaleziona f: 537.8048780487804\n",
      "piano C#5.wav, znaleziona f: 565.3846153846154\n",
      "piano D5.wav, znaleziona f: 595.9459459459459\n",
      "piano D#5.wav, znaleziona f: 630.0\n",
      "piano E5.wav, znaleziona f: 668.1818181818181\n",
      "piano F5.wav, znaleziona f: 711.2903225806451\n",
      "piano F#5.wav, znaleziona f: 760.3448275862069\n",
      "piano G5.wav, znaleziona f: 801.8181818181819\n",
      "piano G#5.wav, znaleziona f: 848.0769230769231\n",
      "piano A5.wav, znaleziona f: 900.0\n",
      "piano A#5.wav, znaleziona f: 980.0\n",
      "piano H5.wav, znaleziona f: 1002.2727272727273\n",
      "piano C6.wav, znaleziona f: 1075.6097560975609\n",
      "piano C#6.wav, znaleziona f: 1130.7692307692307\n",
      "piano D6.wav, znaleziona f: 1191.8918918918919\n",
      "piano D#6.wav, znaleziona f: 1260.0\n",
      "piano E6.wav, znaleziona f: 1336.3636363636363\n",
      "piano F6.wav, znaleziona f: 1422.5806451612902\n",
      "piano F#6.wav, znaleziona f: 1520.6896551724137\n",
      "piano G6.wav, znaleziona f: 1520.6896551724137\n",
      "piano G#6.wav, znaleziona f: 1633.3333333333333\n",
      "piano A6.wav, znaleziona f: 1764.0\n",
      "piano A#6.wav, znaleziona f: 1917.391304347826\n",
      "piano H6.wav, znaleziona f: 2004.5454545454545\n",
      "piano C7.wav, znaleziona f: 2004.5454545454545\n"
     ]
    }
   ],
   "source": [
    "SAMPLE_RATE = 44100\n",
    "FREQUENCY_RANGE = (50, 2500)\n",
    "WINDOW_SIZE = 8192\n",
    "HOP_LENGTH = 1024\n",
    "\n",
    "# For all files:\n",
    "\n",
    "directory = os.getcwd()\n",
    "audio_path = directory + '\\Audio\\piano single notes\\\\'\n",
    "found_frequency = np.array([])\n",
    "\n",
    "for audio_name in audio_names2:\n",
    "    audio_path_actual = audio_path + audio_name\n",
    "    y, sr = librosa.load(audio_path_actual,\n",
    "                         sr=SAMPLE_RATE)  # y - raw data of audio file, sr - sample rate of audio file\n",
    "    frames = librosa.util.frame(y, frame_length=WINDOW_SIZE, hop_length=HOP_LENGTH, axis=0)\n",
    "    windowed_frames = np.hanning(WINDOW_SIZE) * frames\n",
    "    f0_candidate = np.array([])\n",
    "\n",
    "    for frame in windowed_frames:\n",
    "        frequency = find_fundamental_freq(frame, sr=SAMPLE_RATE, freq_range=FREQUENCY_RANGE)\n",
    "        f0_candidate = np.append(f0_candidate, frequency)\n",
    "    f0 = np.median(f0_candidate)\n",
    "    found_frequency =np.append(found_frequency, f0)\n",
    "    print(f\"{audio_name}, znaleziona f: {f0}\")"
   ],
   "metadata": {
    "collapsed": false,
    "pycharm": {
     "name": "#%%\n"
    }
   }
  },
  {
   "cell_type": "code",
   "execution_count": 402,
   "outputs": [
    {
     "data": {
      "text/plain": "   Note  Frequency [Hz]     Audio file  Found frequency [Hz]  Error  \\\n0    C2          65.406   piano C2.wav                 66.12   0.71   \n1   C♯2          69.296  piano C#2.wav                 69.89   0.59   \n2    D2          73.416   piano D2.wav                 73.99   0.57   \n3   D♯2          77.782  piano D#2.wav                 78.47   0.69   \n4    E2          82.407   piano E2.wav                 83.05   0.64   \n..  ...             ...            ...                   ...    ...   \n56  G♯6        1661.219  piano G#6.wav               1633.33  27.89   \n57   A6        1760.000   piano A6.wav               1764.00   4.00   \n58  A♯6        1864.655  piano A#6.wav               1917.39  52.74   \n59   B6        1975.533   piano H6.wav               2004.55  29.02   \n60   C7        2093.005   piano C7.wav               2004.55  88.46   \n\n    Error [%] Status  \n0        1.09   good  \n1        0.86   good  \n2        0.78   good  \n3        0.88   good  \n4        0.78   good  \n..        ...    ...  \n56       1.68   good  \n57       0.23   good  \n58       2.83   good  \n59       1.47   good  \n60       4.23   good  \n\n[61 rows x 7 columns]",
      "text/html": "<div>\n<style scoped>\n    .dataframe tbody tr th:only-of-type {\n        vertical-align: middle;\n    }\n\n    .dataframe tbody tr th {\n        vertical-align: top;\n    }\n\n    .dataframe thead th {\n        text-align: right;\n    }\n</style>\n<table border=\"1\" class=\"dataframe\">\n  <thead>\n    <tr style=\"text-align: right;\">\n      <th></th>\n      <th>Note</th>\n      <th>Frequency [Hz]</th>\n      <th>Audio file</th>\n      <th>Found frequency [Hz]</th>\n      <th>Error</th>\n      <th>Error [%]</th>\n      <th>Status</th>\n    </tr>\n  </thead>\n  <tbody>\n    <tr>\n      <th>0</th>\n      <td>C2</td>\n      <td>65.406</td>\n      <td>piano C2.wav</td>\n      <td>66.12</td>\n      <td>0.71</td>\n      <td>1.09</td>\n      <td>good</td>\n    </tr>\n    <tr>\n      <th>1</th>\n      <td>C♯2</td>\n      <td>69.296</td>\n      <td>piano C#2.wav</td>\n      <td>69.89</td>\n      <td>0.59</td>\n      <td>0.86</td>\n      <td>good</td>\n    </tr>\n    <tr>\n      <th>2</th>\n      <td>D2</td>\n      <td>73.416</td>\n      <td>piano D2.wav</td>\n      <td>73.99</td>\n      <td>0.57</td>\n      <td>0.78</td>\n      <td>good</td>\n    </tr>\n    <tr>\n      <th>3</th>\n      <td>D♯2</td>\n      <td>77.782</td>\n      <td>piano D#2.wav</td>\n      <td>78.47</td>\n      <td>0.69</td>\n      <td>0.88</td>\n      <td>good</td>\n    </tr>\n    <tr>\n      <th>4</th>\n      <td>E2</td>\n      <td>82.407</td>\n      <td>piano E2.wav</td>\n      <td>83.05</td>\n      <td>0.64</td>\n      <td>0.78</td>\n      <td>good</td>\n    </tr>\n    <tr>\n      <th>...</th>\n      <td>...</td>\n      <td>...</td>\n      <td>...</td>\n      <td>...</td>\n      <td>...</td>\n      <td>...</td>\n      <td>...</td>\n    </tr>\n    <tr>\n      <th>56</th>\n      <td>G♯6</td>\n      <td>1661.219</td>\n      <td>piano G#6.wav</td>\n      <td>1633.33</td>\n      <td>27.89</td>\n      <td>1.68</td>\n      <td>good</td>\n    </tr>\n    <tr>\n      <th>57</th>\n      <td>A6</td>\n      <td>1760.000</td>\n      <td>piano A6.wav</td>\n      <td>1764.00</td>\n      <td>4.00</td>\n      <td>0.23</td>\n      <td>good</td>\n    </tr>\n    <tr>\n      <th>58</th>\n      <td>A♯6</td>\n      <td>1864.655</td>\n      <td>piano A#6.wav</td>\n      <td>1917.39</td>\n      <td>52.74</td>\n      <td>2.83</td>\n      <td>good</td>\n    </tr>\n    <tr>\n      <th>59</th>\n      <td>B6</td>\n      <td>1975.533</td>\n      <td>piano H6.wav</td>\n      <td>2004.55</td>\n      <td>29.02</td>\n      <td>1.47</td>\n      <td>good</td>\n    </tr>\n    <tr>\n      <th>60</th>\n      <td>C7</td>\n      <td>2093.005</td>\n      <td>piano C7.wav</td>\n      <td>2004.55</td>\n      <td>88.46</td>\n      <td>4.23</td>\n      <td>good</td>\n    </tr>\n  </tbody>\n</table>\n<p>61 rows × 7 columns</p>\n</div>"
     },
     "execution_count": 402,
     "metadata": {},
     "output_type": "execute_result"
    }
   ],
   "source": [
    "notes = librosa.midi_to_note(np.arange(36, 97))\n",
    "frequencies = librosa.midi_to_hz(np.arange(36, 97)).round(3)\n",
    "\n",
    "df = DataFrame({'Note': notes, 'Frequency': frequencies, \"Audio file\": audio_names2})\n",
    "\n",
    "df = DataFrame(\n",
    "    {'Note': notes, 'Frequency [Hz]': frequencies, \"Audio file\": audio_names2, \"Found frequency [Hz]\": found_frequency.round(2)})\n",
    "error = np.abs(df['Frequency [Hz]'] - df['Found frequency [Hz]'])\n",
    "percentage_error = ((error/ frequencies)*100)\n",
    "df['Error'] = error.round(2)\n",
    "df['Error [%]'] = percentage_error.round(2)\n",
    "status = []\n",
    "for i in range(len(notes)):\n",
    "    if i == len(frequencies) - 1:\n",
    "        if error[i] > np.abs(frequencies[i] - frequencies[i - 1]):\n",
    "            status.append('bad')\n",
    "        else:\n",
    "            status.append('good')\n",
    "    else:\n",
    "        if error[i] > np.abs(frequencies[i + 1] - frequencies[i]):\n",
    "            status.append('bad')\n",
    "        else:\n",
    "            status.append('good')\n",
    "df['Status'] = status\n",
    "df.to_excel('test_f0.xlsx', sheet_name='sheet1', index=False)\n",
    "df"
   ],
   "metadata": {
    "collapsed": false,
    "pycharm": {
     "name": "#%%\n"
    }
   }
  }
 ],
 "metadata": {
  "kernelspec": {
   "display_name": "Python 3",
   "language": "python",
   "name": "python3"
  },
  "language_info": {
   "codemirror_mode": {
    "name": "ipython",
    "version": 2
   },
   "file_extension": ".py",
   "mimetype": "text/x-python",
   "name": "python",
   "nbconvert_exporter": "python",
   "pygments_lexer": "ipython2",
   "version": "2.7.6"
  }
 },
 "nbformat": 4,
 "nbformat_minor": 0
}